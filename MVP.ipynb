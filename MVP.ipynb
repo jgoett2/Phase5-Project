{
 "cells": [
  {
   "cell_type": "markdown",
   "metadata": {},
   "source": [
    "# Evaluating Curriculum Rigor\n",
    "## Background\n",
    "In my experience with high school curriculum, I have found a wide variation in the rigor of course material.  This project seeks to develop a tool for evaluating the rigor of a curriculum, by measuring its alignment to the College Board's respective AP Course.  This project focuses on the College Board's AP Computer Science A course, which covers a first year Java and Object Orientied Design course.\n",
    "\n",
    "For this course, the College Board defines a set of \"Computational Thinking Practices\" (skills) and content that will be assessed on a year-end summative assessment to determine student's mastery of the course.   \n",
    "\n",
    "There are 5 main Computational Thinking Practices identified by the College Board, which it then breaks down into subskills:  \n",
    "\n",
    "<img src=\"Reports/Images/Skills-List.png\" width=600px> \n",
    "\n",
    "In addition, the College Board defines a set of \"Essential Knowledge\" (the content) to be assessed in the course, which it organizes under 5 \"Big Ideas.\"  For example, the content for a lesson on iteration is: \n",
    "\n",
    "<img src=\"Reports/Images/Content-Sample.png\" width=400px>\n",
    "\n",
    "Every question on the College Board's end-of-course summative exam is aligned to a particular computational thinking skill and essential knowledge.  As a note, some school networks have found the College Board's standards to be very complete, and \"backwards plan\" their middle school and pre-AP high school courses to prepare students for the AP level work. \n",
    "\n",
    "As a first step, this project will focus on the assessment questions used in a particular curriculum, and measure how well they align to the College Board's Computational Thinking Practice and Curriculum Framework.  (As a note, AP classes in most subjects have an analagous set of  thinking practices and framework standards, so one day, this work may be generalized to assess curriculums in other subject areas.)\n",
    "\n",
    "Two questions to assess are:  \n",
    "\n",
    "1. Can a TF-IDF vectorization of College Board question prompt with a Logistic Regressor successfully classify an assessment question by Computational Thinking Practice?\n",
    "2. If ChatGPT is supplied only with the College Board Framework for Computational Thinking, can it successfully identify the particular thinking practice being assessed by a question prompt?\n",
    "\n",
    "### Initial Conclusions:\n",
    "1. When just classifying between two different computational thinking practices, both the Logistic Regression and ChatGPT classify with 100% accuracy\n",
    "\n",
    "### Next Steps:\n",
    "1. Expand this to include all 15 computational thinking practices.  Compare accuracy of Logistic Regression and ChatGPT.\n",
    "2. Determine whether the classifier can also identify the \"Essential Knowledge\" assessed by the question, not just the computational skill.\n",
    "3. Attempt to generalize the classifiers to classify non-assessment questions such as lecture material, lab questions, and homework problems.\n",
    "4. Create a visualization that shows the distribution of thinking skills and content assessed over the course of the curriculum."
   ]
  },
  {
   "cell_type": "markdown",
   "metadata": {},
   "source": [
    "## Classifying Questions Using Logistic Regression\n",
    "As first step, this section will try to classify prompts as assessing one of these two AP Computational Thinking Practices (CTP):\n",
    "1. **CTP 2.A**: Apply the meaning of specific operators.  For example:  \n",
    "*Consider the following code segment.*  \n",
    "```\n",
    "int x = 7;  \n",
    "int y = 3;  \n",
    "if ((x < 10) && (y < 0))  \n",
    "  System.out.println(\"\"Value is: \"\" + x * y);  \n",
    "else  \n",
    "  System.out.println(\"\"Value is: \"\" + x / y) \n",
    "```\n",
    "*What is printed as a result of executing the code segment?*\n",
    "\n",
    "2. **CTP 2.B**: Determine the results or output based on statement execution order in a code segment without method calls (except for output).  For example:  \n",
    "\n",
    "*Consider the following code segment.* \n",
    "```\n",
    "int[] arr = {7, 2, 5, 3, 0, 10};  \n",
    "for (int k = 0; k < arr.length - 1; k++)  {  \n",
    "  if (arr[k] > arr[k + 1])  \n",
    "    System.out.print(k + \"\" \"\" + arr[k] + \"\" \"\");  \n",
    "} \n",
    "``` \n",
    "*What will be printed as a result of executing the code segment?*  "
   ]
  },
  {
   "cell_type": "markdown",
   "metadata": {},
   "source": [
    "## Preprocessing the Data\n",
    "In this first step, we will:\n",
    "1. Read in example prompts for each category.\n",
    "2. Preprocess the data: tokenize, lemmatize, and look at the token frequency distribution by question category."
   ]
  },
  {
   "cell_type": "code",
   "execution_count": 1,
   "metadata": {},
   "outputs": [],
   "source": [
    "import numpy as np\n",
    "import pandas as pd\n",
    "import matplotlib.pyplot as plt\n",
    "\n",
    "from sklearn.feature_extraction.text import TfidfVectorizer\n",
    "from nltk.stem import WordNetLemmatizer\n",
    "from nltk.tokenize import RegexpTokenizer\n",
    "from nltk import FreqDist"
   ]
  },
  {
   "cell_type": "code",
   "execution_count": 72,
   "metadata": {},
   "outputs": [],
   "source": [
    "df1 = pd.read_csv(\"Data/Synthetic/Synthetic2A.csv\")\n",
    "df2 = pd.read_csv(\"Data/Synthetic/Synthetic2B.csv\")\n",
    "df = pd.concat([df1, df2])"
   ]
  },
  {
   "cell_type": "markdown",
   "metadata": {},
   "source": [
    "## Testing the Logistic Regression Classifier on the Questions\n",
    "Here, we build a pipeline that does the following:\n",
    "1. Preprocess Text: tokenize and lemmatize the text, vectorize using TF-IDF, restricting to 10 features.\n",
    "2. Train and test a logistic regression classifier.  Evaluate the model appropriately."
   ]
  },
  {
   "cell_type": "code",
   "execution_count": 73,
   "metadata": {},
   "outputs": [],
   "source": [
    "from sklearn.model_selection import train_test_split\n",
    "from sklearn.pipeline import Pipeline\n",
    "from sklearn.linear_model import LogisticRegression\n",
    "\n",
    "from sklearn.metrics import classification_report\n",
    "from sklearn.metrics import confusion_matrix\n",
    "from sklearn.metrics import ConfusionMatrixDisplay"
   ]
  },
  {
   "cell_type": "code",
   "execution_count": 74,
   "metadata": {},
   "outputs": [],
   "source": [
    "basic_token_pattern = r\"(?u)\\b\\w\\w+\\b\"\n",
    "\n",
    "tokenizer = RegexpTokenizer(basic_token_pattern)\n",
    "lemmatizer = WordNetLemmatizer()\n",
    "\n",
    "def lemmatize_text(text):\n",
    "    temp = tokenizer.tokenize(text.lower())\n",
    "    return [lemmatizer.lemmatize(w) for w in temp]\n",
    "\n",
    "tfidf = TfidfVectorizer(strip_accents='ascii', tokenizer=lemmatize_text, stop_words=\"english\", max_features=10)\n",
    "\n",
    "pipeline = [(\"tfidf\",TfidfVectorizer(strip_accents='ascii', tokenizer=lemmatize_text, stop_words=\"english\", max_features=10)),\n",
    "            (\"lr\", LogisticRegression())]\n",
    "pipe = Pipeline(steps=pipeline)"
   ]
  },
  {
   "cell_type": "code",
   "execution_count": 75,
   "metadata": {},
   "outputs": [
    {
     "name": "stderr",
     "output_type": "stream",
     "text": [
      "/Users/jgoett/anaconda3/envs/learn-env/lib/python3.9/site-packages/sklearn/feature_extraction/text.py:528: UserWarning: The parameter 'token_pattern' will not be used since 'tokenizer' is not None'\n",
      "  warnings.warn(\n",
      "/Users/jgoett/anaconda3/envs/learn-env/lib/python3.9/site-packages/sklearn/feature_extraction/text.py:409: UserWarning: Your stop_words may be inconsistent with your preprocessing. Tokenizing the stop words generated tokens ['ha', 'u', 'wa'] not in stop_words.\n",
      "  warnings.warn(\n"
     ]
    },
    {
     "data": {
      "text/html": [
       "<style>#sk-container-id-4 {color: black;background-color: white;}#sk-container-id-4 pre{padding: 0;}#sk-container-id-4 div.sk-toggleable {background-color: white;}#sk-container-id-4 label.sk-toggleable__label {cursor: pointer;display: block;width: 100%;margin-bottom: 0;padding: 0.3em;box-sizing: border-box;text-align: center;}#sk-container-id-4 label.sk-toggleable__label-arrow:before {content: \"▸\";float: left;margin-right: 0.25em;color: #696969;}#sk-container-id-4 label.sk-toggleable__label-arrow:hover:before {color: black;}#sk-container-id-4 div.sk-estimator:hover label.sk-toggleable__label-arrow:before {color: black;}#sk-container-id-4 div.sk-toggleable__content {max-height: 0;max-width: 0;overflow: hidden;text-align: left;background-color: #f0f8ff;}#sk-container-id-4 div.sk-toggleable__content pre {margin: 0.2em;color: black;border-radius: 0.25em;background-color: #f0f8ff;}#sk-container-id-4 input.sk-toggleable__control:checked~div.sk-toggleable__content {max-height: 200px;max-width: 100%;overflow: auto;}#sk-container-id-4 input.sk-toggleable__control:checked~label.sk-toggleable__label-arrow:before {content: \"▾\";}#sk-container-id-4 div.sk-estimator input.sk-toggleable__control:checked~label.sk-toggleable__label {background-color: #d4ebff;}#sk-container-id-4 div.sk-label input.sk-toggleable__control:checked~label.sk-toggleable__label {background-color: #d4ebff;}#sk-container-id-4 input.sk-hidden--visually {border: 0;clip: rect(1px 1px 1px 1px);clip: rect(1px, 1px, 1px, 1px);height: 1px;margin: -1px;overflow: hidden;padding: 0;position: absolute;width: 1px;}#sk-container-id-4 div.sk-estimator {font-family: monospace;background-color: #f0f8ff;border: 1px dotted black;border-radius: 0.25em;box-sizing: border-box;margin-bottom: 0.5em;}#sk-container-id-4 div.sk-estimator:hover {background-color: #d4ebff;}#sk-container-id-4 div.sk-parallel-item::after {content: \"\";width: 100%;border-bottom: 1px solid gray;flex-grow: 1;}#sk-container-id-4 div.sk-label:hover label.sk-toggleable__label {background-color: #d4ebff;}#sk-container-id-4 div.sk-serial::before {content: \"\";position: absolute;border-left: 1px solid gray;box-sizing: border-box;top: 0;bottom: 0;left: 50%;z-index: 0;}#sk-container-id-4 div.sk-serial {display: flex;flex-direction: column;align-items: center;background-color: white;padding-right: 0.2em;padding-left: 0.2em;position: relative;}#sk-container-id-4 div.sk-item {position: relative;z-index: 1;}#sk-container-id-4 div.sk-parallel {display: flex;align-items: stretch;justify-content: center;background-color: white;position: relative;}#sk-container-id-4 div.sk-item::before, #sk-container-id-4 div.sk-parallel-item::before {content: \"\";position: absolute;border-left: 1px solid gray;box-sizing: border-box;top: 0;bottom: 0;left: 50%;z-index: -1;}#sk-container-id-4 div.sk-parallel-item {display: flex;flex-direction: column;z-index: 1;position: relative;background-color: white;}#sk-container-id-4 div.sk-parallel-item:first-child::after {align-self: flex-end;width: 50%;}#sk-container-id-4 div.sk-parallel-item:last-child::after {align-self: flex-start;width: 50%;}#sk-container-id-4 div.sk-parallel-item:only-child::after {width: 0;}#sk-container-id-4 div.sk-dashed-wrapped {border: 1px dashed gray;margin: 0 0.4em 0.5em 0.4em;box-sizing: border-box;padding-bottom: 0.4em;background-color: white;}#sk-container-id-4 div.sk-label label {font-family: monospace;font-weight: bold;display: inline-block;line-height: 1.2em;}#sk-container-id-4 div.sk-label-container {text-align: center;}#sk-container-id-4 div.sk-container {/* jupyter's `normalize.less` sets `[hidden] { display: none; }` but bootstrap.min.css set `[hidden] { display: none !important; }` so we also need the `!important` here to be able to override the default hidden behavior on the sphinx rendered scikit-learn.org. See: https://github.com/scikit-learn/scikit-learn/issues/21755 */display: inline-block !important;position: relative;}#sk-container-id-4 div.sk-text-repr-fallback {display: none;}</style><div id=\"sk-container-id-4\" class=\"sk-top-container\"><div class=\"sk-text-repr-fallback\"><pre>Pipeline(steps=[(&#x27;tfidf&#x27;,\n",
       "                 TfidfVectorizer(max_features=10, stop_words=&#x27;english&#x27;,\n",
       "                                 strip_accents=&#x27;ascii&#x27;,\n",
       "                                 tokenizer=&lt;function lemmatize_text at 0x1690558b0&gt;)),\n",
       "                (&#x27;lr&#x27;, LogisticRegression())])</pre><b>In a Jupyter environment, please rerun this cell to show the HTML representation or trust the notebook. <br />On GitHub, the HTML representation is unable to render, please try loading this page with nbviewer.org.</b></div><div class=\"sk-container\" hidden><div class=\"sk-item sk-dashed-wrapped\"><div class=\"sk-label-container\"><div class=\"sk-label sk-toggleable\"><input class=\"sk-toggleable__control sk-hidden--visually\" id=\"sk-estimator-id-6\" type=\"checkbox\" ><label for=\"sk-estimator-id-6\" class=\"sk-toggleable__label sk-toggleable__label-arrow\">Pipeline</label><div class=\"sk-toggleable__content\"><pre>Pipeline(steps=[(&#x27;tfidf&#x27;,\n",
       "                 TfidfVectorizer(max_features=10, stop_words=&#x27;english&#x27;,\n",
       "                                 strip_accents=&#x27;ascii&#x27;,\n",
       "                                 tokenizer=&lt;function lemmatize_text at 0x1690558b0&gt;)),\n",
       "                (&#x27;lr&#x27;, LogisticRegression())])</pre></div></div></div><div class=\"sk-serial\"><div class=\"sk-item\"><div class=\"sk-estimator sk-toggleable\"><input class=\"sk-toggleable__control sk-hidden--visually\" id=\"sk-estimator-id-7\" type=\"checkbox\" ><label for=\"sk-estimator-id-7\" class=\"sk-toggleable__label sk-toggleable__label-arrow\">TfidfVectorizer</label><div class=\"sk-toggleable__content\"><pre>TfidfVectorizer(max_features=10, stop_words=&#x27;english&#x27;, strip_accents=&#x27;ascii&#x27;,\n",
       "                tokenizer=&lt;function lemmatize_text at 0x1690558b0&gt;)</pre></div></div></div><div class=\"sk-item\"><div class=\"sk-estimator sk-toggleable\"><input class=\"sk-toggleable__control sk-hidden--visually\" id=\"sk-estimator-id-8\" type=\"checkbox\" ><label for=\"sk-estimator-id-8\" class=\"sk-toggleable__label sk-toggleable__label-arrow\">LogisticRegression</label><div class=\"sk-toggleable__content\"><pre>LogisticRegression()</pre></div></div></div></div></div></div></div>"
      ],
      "text/plain": [
       "Pipeline(steps=[('tfidf',\n",
       "                 TfidfVectorizer(max_features=10, stop_words='english',\n",
       "                                 strip_accents='ascii',\n",
       "                                 tokenizer=<function lemmatize_text at 0x1690558b0>)),\n",
       "                ('lr', LogisticRegression())])"
      ]
     },
     "execution_count": 75,
     "metadata": {},
     "output_type": "execute_result"
    }
   ],
   "source": [
    "X_train, X_test, y_train, y_test = train_test_split(df[\"Question\"], df[\"Classification\"])\n",
    "\n",
    "pipe.fit(X_train, y_train)"
   ]
  },
  {
   "cell_type": "code",
   "execution_count": 76,
   "metadata": {},
   "outputs": [
    {
     "name": "stdout",
     "output_type": "stream",
     "text": [
      "              precision    recall  f1-score   support\n",
      "\n",
      "         2.A       1.00      1.00      1.00         1\n",
      "         2.B       1.00      1.00      1.00         4\n",
      "\n",
      "    accuracy                           1.00         5\n",
      "   macro avg       1.00      1.00      1.00         5\n",
      "weighted avg       1.00      1.00      1.00         5\n",
      "\n"
     ]
    }
   ],
   "source": [
    "y_test_pred = pipe.predict(X_test)\n",
    "print(classification_report(y_test, y_test_pred))\n",
    "con_mat = confusion_matrix(y_test, y_test_pred)"
   ]
  },
  {
   "cell_type": "code",
   "execution_count": 77,
   "metadata": {},
   "outputs": [
    {
     "data": {
      "text/plain": [
       "<sklearn.metrics._plot.confusion_matrix.ConfusionMatrixDisplay at 0x15fee6dc0>"
      ]
     },
     "execution_count": 77,
     "metadata": {},
     "output_type": "execute_result"
    },
    {
     "data": {
      "image/png": "[encoded data removed]",
      "text/plain": [
       "<Figure size 640x480 with 2 Axes>"
      ]
     },
     "metadata": {},
     "output_type": "display_data"
    }
   ],
   "source": [
    "ConfusionMatrixDisplay(con_mat).plot()"
   ]
  },
  {
   "cell_type": "markdown",
   "metadata": {},
   "source": [
    "## Build and Test a ChatGPT Classifier"
   ]
  },
  {
   "cell_type": "markdown",
   "metadata": {},
   "source": [
    "This classifier asks ChatGPT to determine the Computational Thinking Skill being assessed in the problem.  \n",
    "1.  Create a function call to ask ChatGPT for the classification\n",
    "2.  Test ChatGPT on data set and evaluate classification."
   ]
  },
  {
   "cell_type": "code",
   "execution_count": 71,
   "metadata": {},
   "outputs": [],
   "source": [
    "import pandas as pd\n",
    "from openai import OpenAI\n",
    "import os\n",
    "\n",
    "from sklearn.metrics import classification_report\n",
    "from sklearn.metrics import confusion_matrix\n",
    "from sklearn.metrics import ConfusionMatrixDisplay\n",
    "\n",
    "df1 = pd.read_csv(\"Data/Synthetic/Synthetic2A.csv\")\n",
    "df2 = pd.read_csv(\"Data/Synthetic/Synthetic2B.csv\")\n",
    "df = pd.concat([df1, df2])\n",
    "df.reset_index(inplace=True)\n",
    "df[\"Classification\"] = df[\"Classification\"].str.strip(\" '\")"
   ]
  },
  {
   "cell_type": "code",
   "execution_count": 72,
   "metadata": {},
   "outputs": [],
   "source": [
    "prompt_start = \"\"\"\n",
    "Here are the categories for AP questions. \n",
    "2.A: Apply the meaning of specific operators \n",
    "2.B: Determine the result or output based on statement execution order in a code segment without method calls (other than output) \n",
    "\n",
    "Below are example questions for each of these categories\n",
    "2.A: Consider  the following  code  segment.  Assume  num is a properly  declared  and initialized  int variable.  if (num  > 0) { if (num  % 2 == 0) { System.out.println( \"A\"); } else  { System.out.println( \"B\"); } } Which  of the following  best describes  the result  of executing  the code  segment?  (A) When  num is a negative  odd integer,  \"B\" is printed;  otherwise,  \"A\" is printed.  (B) When  num is a negative  even  integer,  \"B\" is printed;  otherwise,  nothing  is printed.  (C) When  num is a positive  even  integer,  \"A\" is printed;  otherwise,  \"B\" is printed.  (D) When  num is a positive  even  integer,  \"A\" is printed;  when  num is a positive  odd integer,  \"B\" is printed;  otherwise,  nothing  is printed.\n",
    "2.B: Consider  the following  code segment.  int[][]  values  = {{1,  2, 3}, {4, 5, 6}};  int x = 0; for (int  j = 0; j < values.length;  j++)  { for (int  k = 0; k < values[0].length;  k++)  { if (k == 0) { values[j][k]  *= 2; } x += values[j][k];  } } What  is the value  of x after the code segment  is executed?  (A) 7 (B) 17 (C) 21 (D) 26\n",
    "\n",
    "Based on these, classify the following prompt as either 2.A or 2.B.  Please reply with just \"2.A\" or \"2.B\"\n",
    "\"\"\""
   ]
  },
  {
   "cell_type": "code",
   "execution_count": 73,
   "metadata": {},
   "outputs": [],
   "source": [
    "client = OpenAI(api_key=os.environ.get(\"jeff_api\"))\n",
    "\n",
    "def gpt_classify(prompt):\n",
    "  response = client.chat.completions.create(\n",
    "  model=\"gpt-4o-mini\",\n",
    "  messages=[{\"role\": \"user\", \"content\": prompt_start + prompt}]\n",
    "  )\n",
    "  return response.choices[0].message.content\n"
   ]
  },
  {
   "cell_type": "code",
   "execution_count": 74,
   "metadata": {},
   "outputs": [],
   "source": [
    "df[\"GPT_Classify\"] = df[\"Question\"].apply(gpt_classify)"
   ]
  },
  {
   "cell_type": "code",
   "execution_count": 75,
   "metadata": {},
   "outputs": [
    {
     "name": "stdout",
     "output_type": "stream",
     "text": [
      "              precision    recall  f1-score   support\n",
      "\n",
      "         2.A       1.00      1.00      1.00        10\n",
      "         2.B       1.00      1.00      1.00        10\n",
      "\n",
      "    accuracy                           1.00        20\n",
      "   macro avg       1.00      1.00      1.00        20\n",
      "weighted avg       1.00      1.00      1.00        20\n",
      "\n"
     ]
    }
   ],
   "source": [
    "print(classification_report(df[\"Classification\"], df[\"GPT_Classify\"]));"
   ]
  },
  {
   "cell_type": "code",
   "execution_count": 76,
   "metadata": {},
   "outputs": [
    {
     "data": {
      "text/plain": [
       "<sklearn.metrics._plot.confusion_matrix.ConfusionMatrixDisplay at 0x17df04110>"
      ]
     },
     "execution_count": 76,
     "metadata": {},
     "output_type": "execute_result"
    },
    {
     "data": {
      "image/png": "[encoded data removed]",
      "text/plain": [
       "<Figure size 640x480 with 2 Axes>"
      ]
     },
     "metadata": {},
     "output_type": "display_data"
    }
   ],
   "source": [
    "con_mat = confusion_matrix(df[\"Classification\"], df[\"GPT_Classify\"])\n",
    "ConfusionMatrixDisplay(confusion_matrix=con_mat).plot()"
   ]
  },
  {
   "cell_type": "markdown",
   "metadata": {},
   "source": [
    "## Summary  \n",
    "When just looking at two categories of questions, both the Logistic Regression and ChatGPT classifiers classify the computational thinking practice with 100% accuracy.  This should be expanded to incorporate classify questions from all 15 thinking practices.  In addition, it should be trained to classify the content assessed, not just the skill."
   ]
  },
  {
   "cell_type": "markdown",
   "metadata": {},
   "source": []
  }
 ],
 "metadata": {
  "kernelspec": {
   "display_name": "jeff-env",
   "language": "python",
   "name": "python3"
  },
  "language_info": {
   "codemirror_mode": {
    "name": "ipython",
    "version": 3
   },
   "file_extension": ".py",
   "mimetype": "text/x-python",
   "name": "python",
   "nbconvert_exporter": "python",
   "pygments_lexer": "ipython3",
   "version": "3.12.2"
  }
 },
 "nbformat": 4,
 "nbformat_minor": 2
}
